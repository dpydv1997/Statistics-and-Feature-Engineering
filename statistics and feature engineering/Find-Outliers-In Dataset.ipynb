{
 "cells": [
  {
   "cell_type": "markdown",
   "metadata": {},
   "source": [
    "# what is Outliers?\n"
   ]
  },
  {
   "cell_type": "raw",
   "metadata": {},
   "source": [
    "An Outliers is a data point in data set that is distinct from all other observation . \n",
    "A data point that lies outside the over all distribution of the data sets."
   ]
  },
  {
   "cell_type": "markdown",
   "metadata": {},
   "source": [
    "# What are the criteria to identify the outliers?"
   ]
  },
  {
   "cell_type": "raw",
   "metadata": {},
   "source": [
    "1. Data points that falls outside the 1.5 time of an interquartile range above the 3rd quartile and below the 1st quartile.\n",
    "2. Data points that falls outside of 3 SD. we can use Z-Score and if the Z-Score falls outside of 2 S.D."
   ]
  },
  {
   "cell_type": "markdown",
   "metadata": {},
   "source": [
    "# Reason of outliers to exist in data sets?\n"
   ]
  },
  {
   "cell_type": "raw",
   "metadata": {},
   "source": [
    "1. Variability in data.\n",
    "2. An Experimental measurement errors."
   ]
  },
  {
   "cell_type": "markdown",
   "metadata": {},
   "source": [
    "# Imapct to having outliers in datasets?"
   ]
  },
  {
   "cell_type": "raw",
   "metadata": {},
   "source": [
    "1. It causes various problem during our statistical analysis.\n",
    "2. It may causes a significant impact on the mean and standard deviation."
   ]
  },
  {
   "cell_type": "markdown",
   "metadata": {},
   "source": [
    "# Various ways of finding outliers?"
   ]
  },
  {
   "cell_type": "raw",
   "metadata": {},
   "source": [
    "1. Using scatter plot.\n",
    "2. Box Plot.\n",
    "3. Using Z-Score.\n",
    "4. using the IQR(Interqantile Range)."
   ]
  },
  {
   "cell_type": "code",
   "execution_count": 7,
   "metadata": {},
   "outputs": [],
   "source": [
    "import numpy as np"
   ]
  },
  {
   "cell_type": "code",
   "execution_count": 22,
   "metadata": {},
   "outputs": [],
   "source": [
    "data = [11,10,12,14,12,15,14,13,15,102,12,14,17,19,107,10,13,12,14,12,108,12,11,14,13,15,10,15,12,14]"
   ]
  },
  {
   "cell_type": "markdown",
   "metadata": {},
   "source": [
    "# Detecting Outlier using Z-Score."
   ]
  },
  {
   "cell_type": "raw",
   "metadata": {},
   "source": [
    "Formula for Z-Score = (observation -  mean)/standard deviation\n",
    "\n",
    "Z = (X-μ)/σ"
   ]
  },
  {
   "cell_type": "code",
   "execution_count": 23,
   "metadata": {},
   "outputs": [],
   "source": [
    "outlier = []\n",
    "def find_outlier(data):\n",
    "    threshold = 3 #(threshold=3 means that the data present in the 3rd Sd is not an ouliers)\n",
    "    mean = np.mean(data)\n",
    "    standard_deviation = np.std(data)\n",
    "    for i in data:\n",
    "        z_score = (i-mean)/standard_deviation\n",
    "        if np.abs(z_score) > threshold:\n",
    "            outlier.append(i)\n",
    "    return outlier"
   ]
  },
  {
   "cell_type": "code",
   "execution_count": 24,
   "metadata": {},
   "outputs": [],
   "source": [
    "outliers_point = find_outlier(data)"
   ]
  },
  {
   "cell_type": "code",
   "execution_count": 25,
   "metadata": {},
   "outputs": [
    {
     "data": {
      "text/plain": [
       "[107, 108]"
      ]
     },
     "execution_count": 25,
     "metadata": {},
     "output_type": "execute_result"
    }
   ],
   "source": [
    "outliers_point"
   ]
  },
  {
   "cell_type": "markdown",
   "metadata": {},
   "source": [
    "# Interquantile Range"
   ]
  },
  {
   "cell_type": "raw",
   "metadata": {},
   "source": [
    "75% - 25% values in datasets"
   ]
  },
  {
   "cell_type": "markdown",
   "metadata": {},
   "source": [
    "# Steps "
   ]
  },
  {
   "cell_type": "raw",
   "metadata": {},
   "source": [
    "1. Arrange the data in increasing order.\n",
    "2. calculate the first (q1) and 3rd quartile (q3).\n",
    "3. find interquartile range(q3-q1).\n",
    "4. find lower bound (q1- interquartile range*1.5)\n",
    "5. find upper bound (q3+ interquartile range*1.5)\n",
    "anything that lies outside lower and upper bound is an ouliers."
   ]
  },
  {
   "cell_type": "code",
   "execution_count": 26,
   "metadata": {},
   "outputs": [
    {
     "data": {
      "text/plain": [
       "[11,\n",
       " 10,\n",
       " 12,\n",
       " 14,\n",
       " 12,\n",
       " 15,\n",
       " 14,\n",
       " 13,\n",
       " 15,\n",
       " 102,\n",
       " 12,\n",
       " 14,\n",
       " 17,\n",
       " 19,\n",
       " 107,\n",
       " 10,\n",
       " 13,\n",
       " 12,\n",
       " 14,\n",
       " 12,\n",
       " 108,\n",
       " 12,\n",
       " 11,\n",
       " 14,\n",
       " 13,\n",
       " 15,\n",
       " 10,\n",
       " 15,\n",
       " 12,\n",
       " 14]"
      ]
     },
     "execution_count": 26,
     "metadata": {},
     "output_type": "execute_result"
    }
   ],
   "source": [
    "data"
   ]
  },
  {
   "cell_type": "code",
   "execution_count": 27,
   "metadata": {},
   "outputs": [
    {
     "data": {
      "text/plain": [
       "[10,\n",
       " 10,\n",
       " 10,\n",
       " 11,\n",
       " 11,\n",
       " 12,\n",
       " 12,\n",
       " 12,\n",
       " 12,\n",
       " 12,\n",
       " 12,\n",
       " 12,\n",
       " 13,\n",
       " 13,\n",
       " 13,\n",
       " 14,\n",
       " 14,\n",
       " 14,\n",
       " 14,\n",
       " 14,\n",
       " 14,\n",
       " 15,\n",
       " 15,\n",
       " 15,\n",
       " 15,\n",
       " 17,\n",
       " 19,\n",
       " 102,\n",
       " 107,\n",
       " 108]"
      ]
     },
     "execution_count": 27,
     "metadata": {},
     "output_type": "execute_result"
    }
   ],
   "source": [
    "# arrange data in increasing order\n",
    "sorted(data)"
   ]
  },
  {
   "cell_type": "code",
   "execution_count": 28,
   "metadata": {},
   "outputs": [],
   "source": [
    "q1,q3 = np.percentile(data,[25,75]) # (np.percentile(data,[q1 percentile i.e 25% , q3 percentile i.e 75%]))"
   ]
  },
  {
   "cell_type": "code",
   "execution_count": 29,
   "metadata": {},
   "outputs": [
    {
     "name": "stdout",
     "output_type": "stream",
     "text": [
      "12.0 15.0\n"
     ]
    }
   ],
   "source": [
    "print(q1 , q3)"
   ]
  },
  {
   "cell_type": "code",
   "execution_count": 30,
   "metadata": {},
   "outputs": [
    {
     "name": "stdout",
     "output_type": "stream",
     "text": [
      "3.0\n"
     ]
    }
   ],
   "source": [
    "# find the IQR\n",
    "iqr_value = q3-q1\n",
    "print(iqr_value)"
   ]
  },
  {
   "cell_type": "code",
   "execution_count": 31,
   "metadata": {},
   "outputs": [],
   "source": [
    "# find the lower bound and the upper bound value\n",
    "lower_bound = q1 - (1.5 * iqr_value)\n",
    "upper_bound = q3 + (1.5 * iqr_value)"
   ]
  },
  {
   "cell_type": "code",
   "execution_count": 33,
   "metadata": {},
   "outputs": [
    {
     "name": "stdout",
     "output_type": "stream",
     "text": [
      "7.5 19.5\n"
     ]
    }
   ],
   "source": [
    "print(lower_bound, upper_bound)\n",
    "# print(upper_bound)"
   ]
  },
  {
   "cell_type": "raw",
   "metadata": {},
   "source": [
    "if any value that is away from lower_bound value and upper_bound is consider as an outliers"
   ]
  },
  {
   "cell_type": "code",
   "execution_count": null,
   "metadata": {},
   "outputs": [],
   "source": []
  },
  {
   "cell_type": "markdown",
   "metadata": {},
   "source": [
    "## Discussion Related with Outliers and Impact on Machine Learning"
   ]
  },
  {
   "cell_type": "markdown",
   "metadata": {},
   "source": [
    "##### which MAchine Learning models are sensitive to outliers?\n",
    "1. Naivye Bayes Classifier---   Not Sensitive to outliers\n",
    "2. SVM---                       Not Sensitive to outliers\n",
    "3. Linear Regression----        Sensitive to outliers\n",
    "4. Logistic Regression----      Sensitive to outliers\n",
    "5. Decission Tree Regressor or Classifier----  Not Sensitive to outliers\n",
    "6. Ensemble(Random Forest, XGboost, Gradient Boosting)---- Not Sensitive to outliers\n",
    "7. KNN----                      Not Sensitive to outliers\n",
    "8. Kmeans---                    Sensitive to outliers\n",
    "9. Hierarichal----              Sensitive to outliers\n",
    "10. PCA----                     Sensitive to outliers\n",
    "11. Neural Networks----         Sensitive to outliers"
   ]
  },
  {
   "cell_type": "code",
   "execution_count": null,
   "metadata": {},
   "outputs": [],
   "source": []
  }
 ],
 "metadata": {
  "kernelspec": {
   "display_name": "Python 3",
   "language": "python",
   "name": "python3"
  },
  "language_info": {
   "codemirror_mode": {
    "name": "ipython",
    "version": 3
   },
   "file_extension": ".py",
   "mimetype": "text/x-python",
   "name": "python",
   "nbconvert_exporter": "python",
   "pygments_lexer": "ipython3",
   "version": "3.8.3"
  }
 },
 "nbformat": 4,
 "nbformat_minor": 4
}
